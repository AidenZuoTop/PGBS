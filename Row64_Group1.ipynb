{
  "nbformat": 4,
  "nbformat_minor": 0,
  "metadata": {
    "colab": {
      "provenance": []
    },
    "kernelspec": {
      "name": "python3",
      "display_name": "Python 3"
    },
    "language_info": {
      "name": "python"
    }
  },
  "cells": [
    {
      "cell_type": "code",
      "source": [
        "pip install row64"
      ],
      "metadata": {
        "colab": {
          "base_uri": "https://localhost:8080/"
        },
        "id": "jiBxFy80PV3d",
        "outputId": "cabacfd3-f22f-40c3-ed9a-1bb4e61012c6"
      },
      "execution_count": null,
      "outputs": [
        {
          "output_type": "stream",
          "name": "stdout",
          "text": [
            "Looking in indexes: https://pypi.org/simple, https://us-python.pkg.dev/colab-wheels/public/simple/\n",
            "\u001b[31mERROR: Could not find a version that satisfies the requirement row64 (from versions: none)\u001b[0m\u001b[31m\n",
            "\u001b[0m\u001b[31mERROR: No matching distribution found for row64\u001b[0m\u001b[31m\n",
            "\u001b[0m"
          ]
        }
      ]
    },
    {
      "cell_type": "code",
      "source": [
        "#1. Line Chart/ Date vs. Adj Close\n",
        "import matplotlib.pyplot as plt\n",
        "import pandas as pd\n",
        "import row64\n",
        "\n",
        "def LinePlot(inDf, inCol1):\n",
        "\tcName = inDf.columns[inCol1]\n",
        "\tplt.figure(figsize=(9,5))\n",
        "\tplt.margins(0, 0.03)\n",
        "\tplt.plot(inDf[cName])\n",
        "\n",
        "dfIn = row64.get_dataframe(\"Dataframe3\")\n",
        "df=dfIn.copy(deep=True)\n",
        "LinePlot(df,0)"
      ],
      "metadata": {
        "id": "xZnwghcpPWSi"
      },
      "execution_count": null,
      "outputs": []
    },
    {
      "cell_type": "code",
      "source": [
        "#2. Bar Chart/ Data vs. Daily High\n",
        "import matplotlib\n",
        "import matplotlib.colors as cl\n",
        "import matplotlib.pyplot as plt\n",
        "import numpy as np\n",
        "import pandas as pd\n",
        "import row64\n",
        "\n",
        "def GradientBars(inDf, inValueI, inNameI):\n",
        "\tcList = ['#479DDD', '#83B3DF']\n",
        "\tvalues = inDf[inDf.columns[inValueI]]\n",
        "\tnames = inDf[inDf.columns[inNameI]]\n",
        "\tplt.rc('xtick', labelsize=8)\n",
        "\tplt.rc('ytick', labelsize=7)\n",
        "\tx_pos = np.arange(len(names))\n",
        "\tplt.xticks(x_pos, names,horizontalalignment='right',rotation=45)\n",
        "\tcRGB = [cl.to_rgb(col) for col in cList]\n",
        "\tbars = plt.bar(x_pos, values, color=cList[0])\n",
        "\tcmap = cl.LinearSegmentedColormap.from_list(\"\", cRGB)\n",
        "\tax = bars[0].axes\n",
        "\tlim = ax.get_xlim()+ax.get_ylim()\n",
        "\tfor bar in bars:\n",
        "\t\tbar.set_facecolor(\"none\")\n",
        "\t\tx,y = bar.get_xy()\n",
        "\t\tw, h = bar.get_width(), bar.get_height()\n",
        "\t\tgrad = np.atleast_2d(np.linspace(0,1*w/max(values),256))\n",
        "\t\tax.imshow(grad, extent=[x,x+w,y,y+h], aspect=\"auto\", zorder=0, cmap=cmap)\n",
        "\tax.axis(lim)\n",
        "\tax.get_yaxis().set_major_formatter(matplotlib.ticker.FuncFormatter(lambda x, p: format(int(x), ',')))\n",
        "\n",
        "dfIn = row64.get_dataframe(\"Dataframe3\")\n",
        "df=dfIn.copy(deep=True)\n",
        "GradientBars(df,4,0)"
      ],
      "metadata": {
        "id": "N0s4lBBxPhRa"
      },
      "execution_count": null,
      "outputs": []
    },
    {
      "cell_type": "code",
      "source": [
        "#3. Time Series/ Data, Adj Close\n",
        "import matplotlib.dates as md\n",
        "import matplotlib.pyplot as plt\n",
        "import pandas as pd\n",
        "import row64\n",
        "\n",
        "def TimeSeries(inDf, inDateI, inValI):\n",
        "\tvalues = inDf[inDf.columns[inValI]]\n",
        "\tdates = inDf[inDf.columns[inDateI]]\n",
        "\tconverted_dates = md.datestr2num(dates)\n",
        "\tx_axis = (converted_dates)\n",
        "\tplt.figure(figsize=(10,5))\n",
        "\tplt.margins(0, 0.06)\n",
        "\tplt.plot_date(x_axis, values, '-',color='#1F77B4')\n",
        "\n",
        "dfIn = row64.get_dataframe(\"Dataframe3\")\n",
        "df=dfIn.copy(deep=True)\n",
        "TimeSeries(df,0,2)"
      ],
      "metadata": {
        "id": "Y8CCi-J6Pq5y"
      },
      "execution_count": null,
      "outputs": []
    }
  ]
}